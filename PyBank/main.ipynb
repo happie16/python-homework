{
 "cells": [
  {
   "cell_type": "markdown",
   "id": "f4adf378-dcbf-4e24-a01a-31cdb2d652a6",
   "metadata": {},
   "source": [
    "# Assignment - Day Job Automate"
   ]
  },
  {
   "cell_type": "code",
   "execution_count": 1,
   "id": "6dee41e0-c30e-4fe1-8830-370c3e21bbec",
   "metadata": {},
   "outputs": [],
   "source": [
    "# Importing libraries\n",
    "import pandas as pd\n",
    "import numpy as np\n",
    "from pathlib import Path"
   ]
  },
  {
   "cell_type": "code",
   "execution_count": 18,
   "id": "2d66e549-a9f5-4313-b500-46d8498b6836",
   "metadata": {},
   "outputs": [
    {
     "data": {
      "text/html": [
       "<div>\n",
       "<style scoped>\n",
       "    .dataframe tbody tr th:only-of-type {\n",
       "        vertical-align: middle;\n",
       "    }\n",
       "\n",
       "    .dataframe tbody tr th {\n",
       "        vertical-align: top;\n",
       "    }\n",
       "\n",
       "    .dataframe thead th {\n",
       "        text-align: right;\n",
       "    }\n",
       "</style>\n",
       "<table border=\"1\" class=\"dataframe\">\n",
       "  <thead>\n",
       "    <tr style=\"text-align: right;\">\n",
       "      <th></th>\n",
       "      <th>Date</th>\n",
       "      <th>Profit/Losses</th>\n",
       "    </tr>\n",
       "  </thead>\n",
       "  <tbody>\n",
       "    <tr>\n",
       "      <th>0</th>\n",
       "      <td>Jan-2010</td>\n",
       "      <td>867884</td>\n",
       "    </tr>\n",
       "    <tr>\n",
       "      <th>1</th>\n",
       "      <td>Feb-2010</td>\n",
       "      <td>984655</td>\n",
       "    </tr>\n",
       "    <tr>\n",
       "      <th>2</th>\n",
       "      <td>Mar-2010</td>\n",
       "      <td>322013</td>\n",
       "    </tr>\n",
       "    <tr>\n",
       "      <th>3</th>\n",
       "      <td>Apr-2010</td>\n",
       "      <td>-69417</td>\n",
       "    </tr>\n",
       "    <tr>\n",
       "      <th>4</th>\n",
       "      <td>May-2010</td>\n",
       "      <td>310503</td>\n",
       "    </tr>\n",
       "  </tbody>\n",
       "</table>\n",
       "</div>"
      ],
      "text/plain": [
       "       Date  Profit/Losses\n",
       "0  Jan-2010         867884\n",
       "1  Feb-2010         984655\n",
       "2  Mar-2010         322013\n",
       "3  Apr-2010         -69417\n",
       "4  May-2010         310503"
      ]
     },
     "execution_count": 18,
     "metadata": {},
     "output_type": "execute_result"
    }
   ],
   "source": [
    "# Reading the CSV file\n",
    "fn = pd.read_csv('budget_data.csv')\n",
    "fn.head()"
   ]
  },
  {
   "cell_type": "code",
   "execution_count": 21,
   "id": "13a7d391-f68d-49ea-800c-bc4af331ac30",
   "metadata": {},
   "outputs": [],
   "source": [
    "f = open('results.txt', 'a')"
   ]
  },
  {
   "cell_type": "code",
   "execution_count": 22,
   "id": "32e2fa6f-019a-4a81-bbc5-9d393a534ada",
   "metadata": {},
   "outputs": [
    {
     "data": {
      "text/plain": [
       "86"
      ]
     },
     "execution_count": 22,
     "metadata": {},
     "output_type": "execute_result"
    }
   ],
   "source": [
    "#Calculate numbers of months\n",
    "\n",
    "Numbers_of_Months = fn['Date'].count()\n",
    "Numbers_of_Months"
   ]
  },
  {
   "cell_type": "code",
   "execution_count": 33,
   "id": "b5182e64-a2e4-47cf-879f-c32e40d48e2b",
   "metadata": {},
   "outputs": [
    {
     "data": {
      "text/plain": [
       "0     Jan-2010\n",
       "1     Feb-2010\n",
       "2     Mar-2010\n",
       "3     Apr-2010\n",
       "4     May-2010\n",
       "        ...   \n",
       "81    Oct-2016\n",
       "82    Nov-2016\n",
       "83    Dec-2016\n",
       "84    Jan-2017\n",
       "85    Feb-2017\n",
       "Name: Date, Length: 86, dtype: object"
      ]
     },
     "execution_count": 33,
     "metadata": {},
     "output_type": "execute_result"
    }
   ],
   "source": [
    "#Calculate Revenue\n",
    "\n",
    "Revenue = list(fn['Profit/Losses'])\n",
    "Date_of_Profit = fn['Date']\n",
    "Date_of_Profit"
   ]
  },
  {
   "cell_type": "code",
   "execution_count": 34,
   "id": "933e72b9-d22c-490f-a4f7-65f7660dab0a",
   "metadata": {},
   "outputs": [
    {
     "data": {
      "text/plain": [
       "38382578"
      ]
     },
     "execution_count": 34,
     "metadata": {},
     "output_type": "execute_result"
    }
   ],
   "source": [
    "#Calculate Total Profit \n",
    "Profit_change = []\n",
    "Total_Profit = sum(fn['Profit/Losses'])\n",
    "Total_Profit"
   ]
  },
  {
   "cell_type": "code",
   "execution_count": 36,
   "id": "b66f1c4f-64b7-4b9b-95d0-6aec7c41cab7",
   "metadata": {},
   "outputs": [
    {
     "name": "stdout",
     "output_type": "stream",
     "text": [
      "Financial Analysis\n",
      "----------------------------------\n",
      "\n",
      "Your profit is: $38382578\n",
      "\n",
      "Total Months: 86\n",
      "\n",
      "Average  Change: $-2315.12\n",
      "\n",
      "Greatest Increase in Profits: Jan-2012 $1926159\n",
      "\n",
      "Greatest Decrease in Profits: Aug-2013 $-2196167\n",
      "\n"
     ]
    }
   ],
   "source": [
    "# Define Variables and Pseudo code\n",
    "#f.write(\"Financial Analysis\\n----------------------------------\\n\")\n",
    "#f.write(\"Your profit is: \" + \"$\" + str(Total_Profit) + \"\\n\")\n",
    "#f.write(\"Total Months: \" + str(Numbers_of_Months) + \"\\n\")\n",
    "#f.write(\"Average  Change: \" + \"$\" + str(Average_Change) + \"\\n\")\n",
    "#f.write(\"Greatest Increase in Profits: \" + max_profit_month + \" $\" + str(Max_Profit_Change) + \"\\n\")\n",
    "#f.write(\"Greatest Decrease in Profits: \" + min_profit_month + \" $\" + str(Min_Profit_Change) + \"\\n\")\n",
    "for x in range(len(fn)-1):\n",
    "    Profit_1 = Revenue[x]\n",
    "    Profit_2 = Revenue[x+1]\n",
    "    Profit_change.append(Profit_2-Profit_1)\n",
    "    Min_Profit_Change = min(Profit_change)\n",
    "    Max_Profit_Change = max(Profit_change)\n",
    "    Average_Change = round(np.mean(Profit_change),2)\n",
    "    max_profit_month = Date_of_Profit[Profit_change.index(max(Profit_change))]\n",
    "    min_profit_month = Date_of_Profit[Profit_change.index(min(Profit_change))]\n",
    "\n",
    "print(\"Financial Analysis\\n----------------------------------\\n\")\n",
    "print(\"Your profit is: \" + \"$\" + str(Total_Profit) + \"\\n\")\n",
    "print(\"Total Months: \" + str(Numbers_of_Months) + \"\\n\")\n",
    "print(\"Average  Change: \" + \"$\" + str(Average_Change) + \"\\n\")\n",
    "print(\"Greatest Increase in Profits: \" + max_profit_month + \" $\" + str(Max_Profit_Change) + \"\\n\")\n",
    "print(\"Greatest Decrease in Profits: \" + min_profit_month + \" $\" + str(Min_Profit_Change) + \"\\n\")"
   ]
  },
  {
   "cell_type": "code",
   "execution_count": null,
   "id": "e570388c-36dd-48f8-96af-08d3ea31d19d",
   "metadata": {},
   "outputs": [],
   "source": []
  }
 ],
 "metadata": {
  "kernelspec": {
   "display_name": "Python 3",
   "language": "python",
   "name": "python3"
  },
  "language_info": {
   "codemirror_mode": {
    "name": "ipython",
    "version": 3
   },
   "file_extension": ".py",
   "mimetype": "text/x-python",
   "name": "python",
   "nbconvert_exporter": "python",
   "pygments_lexer": "ipython3",
   "version": "3.8.8"
  }
 },
 "nbformat": 4,
 "nbformat_minor": 5
}
